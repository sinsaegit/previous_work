{
 "cells": [
  {
   "cell_type": "markdown",
   "metadata": {},
   "source": [
    "### Comparing TF-IDF and CountVectorizer on a mlp classifier"
   ]
  },
  {
   "cell_type": "markdown",
   "metadata": {},
   "source": [
    "#### Import libs"
   ]
  },
  {
   "cell_type": "code",
   "execution_count": 1,
   "metadata": {},
   "outputs": [],
   "source": [
    "\n",
    "# sklearn (vectorizer, classifier, gridsearch)\n",
    "from sklearn.feature_extraction.text import TfidfVectorizer, CountVectorizer\n",
    "from sklearn.linear_model import LogisticRegression\n",
    "from sklearn.model_selection import GridSearchCV\n",
    "from sklearn.metrics import ConfusionMatrixDisplay, classification_report, confusion_matrix\n",
    "from sklearn.neural_network import MLPClassifier\n",
    "import matplotlib.pyplot as plt\n",
    "\n",
    "\n",
    "# Auxiliary\n",
    "import numpy as np\n",
    "from random import shuffle\n",
    "\n",
    "class TaggedPoint():\n",
    "    def __init__(self, data, tag):\n",
    "        self.data = data\n",
    "        self.tag = tag\n"
   ]
  },
  {
   "cell_type": "markdown",
   "metadata": {},
   "source": [
    "####  Import metadata"
   ]
  },
  {
   "cell_type": "code",
   "execution_count": 2,
   "metadata": {},
   "outputs": [
    {
     "name": "stdout",
     "output_type": "stream",
     "text": [
      "<class 'dict'>\n",
      "Negative reviews:  5246\n",
      "Positive reviews:  5166\n"
     ]
    }
   ],
   "source": [
    "# opens the folder as per my file system and filters data based on rating and screen\n",
    "\n",
    "with open(\"./norec/data/metadata.json\", \"r\", encoding=\"utf-8\") as file:\n",
    "    data = json.load(file)  \n",
    "    filtered_data = {k:v for k,v in data.items() if v[\"category\"] == \"screen\"}\n",
    "    #for k,v in filtered_data.items():\n",
    "    #    print(k,v)\n",
    "\n",
    "    neg_reviews = {k:v for k,v in filtered_data.items() if v[\"rating\"] in [1,2,3]}\n",
    "    pos_reviews = {k:v for k,v in filtered_data.items() if v[\"rating\"] in [5,6]}\n",
    "    \n",
    "print(type(data))\n",
    "print(\"Negative reviews: \", len(neg_reviews))\n",
    "print(\"Positive reviews: \", len(pos_reviews))"
   ]
  },
  {
   "cell_type": "code",
   "execution_count": 3,
   "metadata": {},
   "outputs": [
    {
     "name": "stdout",
     "output_type": "stream",
     "text": [
      "1006 1054 8352\n"
     ]
    }
   ],
   "source": [
    "# takes the key values in the dictionary items and adds .txt to them for easy comparison in dev, test, train folder\n",
    "# by adding the data as TaggedPoint-objects, we can easily reuse many of the supplied functions\n",
    "\n",
    "import os\n",
    "import os.path \n",
    "\n",
    "def get_files(path):\n",
    "    global neg_reviews, pos_reviews\n",
    "    id_neg = [k+\".txt\" for k in neg_reviews.keys()]\n",
    "    id_pos = [k+\".txt\" for k in pos_reviews.keys()]\n",
    "    data = []\n",
    "\n",
    "    for file in os.listdir(path):\n",
    "        fn = path+file\n",
    "        if os.path.isfile(fn):\n",
    "            if file in id_neg:\n",
    "                with open(fn, \"r\", encoding=\"utf-8\") as file:\n",
    "                    content = file.read()\n",
    "                    data.append(TaggedPoint(content, 0))\n",
    "            elif file in id_pos:\n",
    "                with open(fn, \"r\", encoding=\"utf-8\") as file:\n",
    "                    content = file.read()\n",
    "                    data.append(TaggedPoint(content, 1))\n",
    "\n",
    "    return data\n",
    "\n",
    "\n",
    "test = get_files(\"./norec/data/test/\")\n",
    "val = get_files(\"./norec/data/dev/\")\n",
    "train = get_files(\"./norec/data/train/\")\n",
    "\n",
    "print(len(test), len(val), len(train))"
   ]
  },
  {
   "cell_type": "markdown",
   "metadata": {},
   "source": [
    "#### Shuffle the data"
   ]
  },
  {
   "cell_type": "code",
   "execution_count": 4,
   "metadata": {},
   "outputs": [],
   "source": [
    "# not really necessary but it is considered good practice, just in case\n",
    "\n",
    "def dj_shuffle_fricka_fricka(test, val, train):\n",
    "    shuffle(test)\n",
    "    shuffle(val)\n",
    "    shuffle(train)\n",
    "    return test, val, train\n",
    "\n",
    "test_set, val_set, train_set = dj_shuffle_fricka_fricka(test, val, train)\n",
    "#print(len(test), len(val), len(train))"
   ]
  },
  {
   "cell_type": "markdown",
   "metadata": {},
   "source": [
    "#### Feature engineering: Both Tfidf and Count of tokens"
   ]
  },
  {
   "cell_type": "code",
   "execution_count": 5,
   "metadata": {},
   "outputs": [],
   "source": [
    "# function that returns train features and feautres for both tfidf and countvectorizer\n",
    "\n",
    "def get_train_features(train):\n",
    "    #initialize the TF-IDF vectorizer and use the review data to vectorize\n",
    "    vectorizer = TfidfVectorizer()\n",
    "    #initialize the Count vectorizer and use the review data to vectorize\n",
    "    c_vectorizer = CountVectorizer()\n",
    "\n",
    "    X_train = vectorizer.fit_transform([review.data for review in train])\n",
    "    X_train_c = c_vectorizer.fit_transform([review.data for review in train])\n",
    "\n",
    "    y_train = np.array([review.tag for review in train])\n",
    "    y_train_c = np.array([review.tag for review in train])\n",
    "\n",
    "    return vectorizer, c_vectorizer, X_train, y_train, X_train_c, y_train_c\n",
    "\n",
    "\n",
    "def get_features(data_set, vectorizer, c_vectorizer):\n",
    "    #retrieve the features for parts of the data\n",
    "    X = vectorizer.transform([review.data for review in data_set])\n",
    "    y = np.array([review.tag for review in data_set])\n",
    "\n",
    "    Z = c_vectorizer.transform([review.data for review in data_set])\n",
    "    q = np.array([review.tag for review in data_set])\n",
    "    return X, y, Z, q"
   ]
  },
  {
   "cell_type": "markdown",
   "metadata": {},
   "source": [
    "#### GridSearch function for LR"
   ]
  },
  {
   "cell_type": "code",
   "execution_count": 6,
   "metadata": {},
   "outputs": [],
   "source": [
    "# implementing grid search with different solvers and penalties with logistic regression\n",
    "# increasing n_jobs to run more processes simultaneiously\n",
    "\n",
    "def griddy_search(X, y):\n",
    "    lr = LogisticRegression(max_iter=1500)\n",
    "\n",
    "    params = {\n",
    "        \"penalty\": [None, \"l1\", \"l2\"], \n",
    "        \"class_weight\": [None, \"balanced\"],\n",
    "        \"random_state\": [0, 42],\n",
    "        \"solver\": [\"saga\", \"liblinear\"],\n",
    "    }\n",
    "\n",
    "    clf = GridSearchCV(lr, params, n_jobs=5, verbose=2)   \n",
    "    clf.fit(X,y)\n",
    "    return clf \n",
    "\n",
    "\n",
    "def print_info(grid_result):\n",
    "    print(grid_result)\n",
    "    for p in grid_result.param_grid:\n",
    "        print(\"\\033[92m%20s \\033[93m%-12s\\033[0m %s\" %\n",
    "        (p, grid_result.best_params_[p], grid_result.param_grid[p]))"
   ]
  },
  {
   "cell_type": "markdown",
   "metadata": {},
   "source": [
    "#### Function for hypertuning the params in the LR model "
   ]
  },
  {
   "cell_type": "code",
   "execution_count": 39,
   "metadata": {},
   "outputs": [],
   "source": [
    "# tuning-function that takes the params and training- and validation sets to give the result\n",
    "# returns the classifier obejct along with displaying a matrix \n",
    "\n",
    "def make_best(params, X_train, y_train, X_val, y_val):\n",
    "    lr = LogisticRegression(max_iter=1500,\n",
    "                            penalty=params[\"penalty\"],\n",
    "                            class_weight=params[\"class_weight\"],\n",
    "                            random_state=params[\"random_state\"],\n",
    "                            solver=params[\"solver\"])\n",
    "    \n",
    "    clf = lr.fit(X_train, y_train)\n",
    "\n",
    "    print(clf.classes_)\n",
    "    predictions = clf.predict(X_val)\n",
    "    # print(predictions)\n",
    "\n",
    "    print('\\n\\033[94mConfusion matrix:\\033[0m\\n',\n",
    "          confusion_matrix(y_val, predictions, labels=[0, 1]))\n",
    "    print(classification_report(y_val, predictions))\n",
    "    \n",
    "    cm = confusion_matrix(y_val, predictions, labels=[0,1])\n",
    "    fig = ConfusionMatrixDisplay(confusion_matrix=cm, display_labels=[\"0\",\"1\"])\n",
    "    fig.plot()\n",
    "    #fig.figure_.suptitle(\"Confusion matrix for binary movie review classification\")\n",
    "    #plt.savefig(\"confusion.png\", bbox_inches='tight')\n",
    "    plt.show()\n",
    "\n",
    "    return clf"
   ]
  },
  {
   "cell_type": "markdown",
   "metadata": {},
   "source": [
    "#### Getting the features for Tf-Idf and CountVectorizer"
   ]
  },
  {
   "cell_type": "code",
   "execution_count": 8,
   "metadata": {},
   "outputs": [],
   "source": [
    "# getting all the features with the tweaked functions\n",
    "\n",
    "vectorizer, c_vectorizer, X_train, y_train, X_train_c, y_train_c = get_train_features(train_set)\n",
    "X_val, y_val, X_val_c, y_val_c = get_features(val_set, vectorizer, c_vectorizer)\n",
    "X_test, y_test, X_test_c, y_test_c = get_features(test_set, vectorizer, c_vectorizer)"
   ]
  },
  {
   "cell_type": "code",
   "execution_count": 9,
   "metadata": {},
   "outputs": [
    {
     "data": {
      "text/plain": [
       "((1006, 151073), (1006,), (1006, 151073), (1006,))"
      ]
     },
     "execution_count": 9,
     "metadata": {},
     "output_type": "execute_result"
    }
   ],
   "source": [
    "# error checking to see if the sets are divided correctly\n",
    "\n",
    "X_test.shape, y_test.shape, X_test_c.shape, y_test_c.shape "
   ]
  },
  {
   "cell_type": "markdown",
   "metadata": {},
   "source": [
    "#### Running GridSearch on TD-IDF Vectorizer"
   ]
  },
  {
   "cell_type": "code",
   "execution_count": 10,
   "metadata": {},
   "outputs": [
    {
     "name": "stdout",
     "output_type": "stream",
     "text": [
      "Fitting 5 folds for each of 24 candidates, totalling 120 fits\n"
     ]
    },
    {
     "name": "stderr",
     "output_type": "stream",
     "text": [
      "c:\\Users\\saete\\anaconda3\\lib\\site-packages\\sklearn\\model_selection\\_validation.py:425: FitFailedWarning: \n",
      "20 fits failed out of a total of 120.\n",
      "The score on these train-test partitions for these parameters will be set to nan.\n",
      "If these failures are not expected, you can try to debug them by setting error_score='raise'.\n",
      "\n",
      "Below are more details about the failures:\n",
      "--------------------------------------------------------------------------------\n",
      "20 fits failed with the following error:\n",
      "Traceback (most recent call last):\n",
      "  File \"c:\\Users\\saete\\anaconda3\\lib\\site-packages\\sklearn\\model_selection\\_validation.py\", line 732, in _fit_and_score\n",
      "    estimator.fit(X_train, y_train, **fit_params)\n",
      "  File \"c:\\Users\\saete\\anaconda3\\lib\\site-packages\\sklearn\\base.py\", line 1151, in wrapper\n",
      "    return fit_method(estimator, *args, **kwargs)\n",
      "  File \"c:\\Users\\saete\\anaconda3\\lib\\site-packages\\sklearn\\linear_model\\_logistic.py\", line 1227, in fit\n",
      "    self.coef_, self.intercept_, self.n_iter_ = _fit_liblinear(\n",
      "  File \"c:\\Users\\saete\\anaconda3\\lib\\site-packages\\sklearn\\svm\\_base.py\", line 1221, in _fit_liblinear\n",
      "    solver_type = _get_liblinear_solver_type(multi_class, penalty, loss, dual)\n",
      "  File \"c:\\Users\\saete\\anaconda3\\lib\\site-packages\\sklearn\\svm\\_base.py\", line 1060, in _get_liblinear_solver_type\n",
      "    raise ValueError(\n",
      "ValueError: Unsupported set of arguments: The combination of penalty='None' and loss='logistic_regression' is not supported, Parameters: penalty=None, loss='logistic_regression', dual=False\n",
      "\n",
      "  warnings.warn(some_fits_failed_message, FitFailedWarning)\n",
      "c:\\Users\\saete\\anaconda3\\lib\\site-packages\\sklearn\\model_selection\\_search.py:976: UserWarning: One or more of the test scores are non-finite: [0.87823255        nan 0.87619683        nan 0.80914946 0.8095086\n",
      " 0.80914946 0.8095086  0.84698381 0.84698388 0.84686419 0.84698388\n",
      " 0.87823255        nan 0.87619698        nan 0.80747324 0.80759307\n",
      " 0.80771276 0.80759307 0.84470929 0.84446977 0.84482905 0.84446977]\n",
      "  warnings.warn(\n"
     ]
    },
    {
     "name": "stdout",
     "output_type": "stream",
     "text": [
      "GridSearchCV(estimator=LogisticRegression(max_iter=1500), n_jobs=5,\n",
      "             param_grid={'class_weight': [None, 'balanced'],\n",
      "                         'penalty': [None, 'l1', 'l2'], 'random_state': [0, 42],\n",
      "                         'solver': ['saga', 'liblinear']},\n",
      "             verbose=2)\n",
      "\u001b[92m             penalty \u001b[93mNone        \u001b[0m [None, 'l1', 'l2']\n",
      "\u001b[92m        class_weight \u001b[93mNone        \u001b[0m [None, 'balanced']\n",
      "\u001b[92m        random_state \u001b[93m0           \u001b[0m [0, 42]\n",
      "\u001b[92m              solver \u001b[93msaga        \u001b[0m ['saga', 'liblinear']\n"
     ]
    }
   ],
   "source": [
    "%%time\n",
    "\n",
    "grid_result = griddy_search(X_train, y_train)\n",
    "print_info(grid_result)"
   ]
  },
  {
   "cell_type": "markdown",
   "metadata": {},
   "source": [
    "#### Running GridSearch on CountVectorizer"
   ]
  },
  {
   "cell_type": "code",
   "execution_count": 11,
   "metadata": {},
   "outputs": [
    {
     "name": "stdout",
     "output_type": "stream",
     "text": [
      "Fitting 5 folds for each of 24 candidates, totalling 120 fits\n"
     ]
    },
    {
     "name": "stderr",
     "output_type": "stream",
     "text": [
      "c:\\Users\\saete\\anaconda3\\lib\\site-packages\\sklearn\\model_selection\\_validation.py:425: FitFailedWarning: \n",
      "20 fits failed out of a total of 120.\n",
      "The score on these train-test partitions for these parameters will be set to nan.\n",
      "If these failures are not expected, you can try to debug them by setting error_score='raise'.\n",
      "\n",
      "Below are more details about the failures:\n",
      "--------------------------------------------------------------------------------\n",
      "20 fits failed with the following error:\n",
      "Traceback (most recent call last):\n",
      "  File \"c:\\Users\\saete\\anaconda3\\lib\\site-packages\\sklearn\\model_selection\\_validation.py\", line 732, in _fit_and_score\n",
      "    estimator.fit(X_train, y_train, **fit_params)\n",
      "  File \"c:\\Users\\saete\\anaconda3\\lib\\site-packages\\sklearn\\base.py\", line 1151, in wrapper\n",
      "    return fit_method(estimator, *args, **kwargs)\n",
      "  File \"c:\\Users\\saete\\anaconda3\\lib\\site-packages\\sklearn\\linear_model\\_logistic.py\", line 1227, in fit\n",
      "    self.coef_, self.intercept_, self.n_iter_ = _fit_liblinear(\n",
      "  File \"c:\\Users\\saete\\anaconda3\\lib\\site-packages\\sklearn\\svm\\_base.py\", line 1221, in _fit_liblinear\n",
      "    solver_type = _get_liblinear_solver_type(multi_class, penalty, loss, dual)\n",
      "  File \"c:\\Users\\saete\\anaconda3\\lib\\site-packages\\sklearn\\svm\\_base.py\", line 1060, in _get_liblinear_solver_type\n",
      "    raise ValueError(\n",
      "ValueError: Unsupported set of arguments: The combination of penalty='None' and loss='logistic_regression' is not supported, Parameters: penalty=None, loss='logistic_regression', dual=False\n",
      "\n",
      "  warnings.warn(some_fits_failed_message, FitFailedWarning)\n",
      "c:\\Users\\saete\\anaconda3\\lib\\site-packages\\sklearn\\model_selection\\_search.py:976: UserWarning: One or more of the test scores are non-finite: [0.86350617        nan 0.86350617        nan 0.85763948 0.84434929\n",
      " 0.85740003 0.84458881 0.86338633 0.86494336 0.86350609 0.86494336\n",
      " 0.86326686        nan 0.863626          nan 0.85763926 0.84494788\n",
      " 0.85799847 0.8450675  0.86326679 0.86506276 0.86338655 0.86506276]\n",
      "  warnings.warn(\n"
     ]
    },
    {
     "name": "stdout",
     "output_type": "stream",
     "text": [
      "GridSearchCV(estimator=LogisticRegression(max_iter=1500), n_jobs=5,\n",
      "             param_grid={'class_weight': [None, 'balanced'],\n",
      "                         'penalty': [None, 'l1', 'l2'], 'random_state': [0, 42],\n",
      "                         'solver': ['saga', 'liblinear']},\n",
      "             verbose=2)\n",
      "CPU times: total: 312 ms\n",
      "Wall time: 42min 2s\n"
     ]
    }
   ],
   "source": [
    "%%time\n",
    "\n",
    "grid_result_c = griddy_search(X_train_c, y_train_c)\n",
    "print(grid_result_c)"
   ]
  },
  {
   "cell_type": "markdown",
   "metadata": {},
   "source": [
    "#### Finding best classifiers for grid search using TfidfVectorizer and CountVectorizer"
   ]
  },
  {
   "cell_type": "code",
   "execution_count": 40,
   "metadata": {},
   "outputs": [
    {
     "name": "stdout",
     "output_type": "stream",
     "text": [
      "[0 1]\n",
      "\n",
      "\u001b[94mConfusion matrix:\u001b[0m\n",
      " [[453  68]\n",
      " [ 50 483]]\n",
      "              precision    recall  f1-score   support\n",
      "\n",
      "           0       0.90      0.87      0.88       521\n",
      "           1       0.88      0.91      0.89       533\n",
      "\n",
      "    accuracy                           0.89      1054\n",
      "   macro avg       0.89      0.89      0.89      1054\n",
      "weighted avg       0.89      0.89      0.89      1054\n",
      "\n"
     ]
    },
    {
     "data": {
      "image/png": "[encoded data removed]",
      "text/plain": [
       "<Figure size 640x480 with 2 Axes>"
      ]
     },
     "metadata": {},
     "output_type": "display_data"
    },
    {
     "name": "stdout",
     "output_type": "stream",
     "text": [
      "CPU times: total: 2.25 s\n",
      "Wall time: 33.7 s\n"
     ]
    }
   ],
   "source": [
    "%%time \n",
    "\n",
    "best_classifier = make_best(grid_result.best_params_, X_train, y_train, X_val, y_val)"
   ]
  },
  {
   "cell_type": "code",
   "execution_count": 46,
   "metadata": {},
   "outputs": [
    {
     "name": "stdout",
     "output_type": "stream",
     "text": [
      "[0 1]\n",
      "\n",
      "\u001b[94mConfusion matrix:\u001b[0m\n",
      " [[451  70]\n",
      " [ 60 473]]\n",
      "              precision    recall  f1-score   support\n",
      "\n",
      "           0       0.88      0.87      0.87       521\n",
      "           1       0.87      0.89      0.88       533\n",
      "\n",
      "    accuracy                           0.88      1054\n",
      "   macro avg       0.88      0.88      0.88      1054\n",
      "weighted avg       0.88      0.88      0.88      1054\n",
      "\n"
     ]
    },
    {
     "data": {
      "image/png": "[encoded data removed]",
      "text/plain": [
       "<Figure size 640x480 with 2 Axes>"
      ]
     },
     "metadata": {},
     "output_type": "display_data"
    },
    {
     "name": "stdout",
     "output_type": "stream",
     "text": [
      "GridSearchCV(estimator=LogisticRegression(max_iter=1500), n_jobs=5,\n",
      "             param_grid={'class_weight': [None, 'balanced'],\n",
      "                         'penalty': [None, 'l1', 'l2'], 'random_state': [0, 42],\n",
      "                         'solver': ['saga', 'liblinear']},\n",
      "             verbose=2)\n",
      "\u001b[92m             penalty \u001b[93ml2          \u001b[0m [None, 'l1', 'l2']\n",
      "\u001b[92m        class_weight \u001b[93mbalanced    \u001b[0m [None, 'balanced']\n",
      "\u001b[92m        random_state \u001b[93m0           \u001b[0m [0, 42]\n",
      "\u001b[92m              solver \u001b[93mliblinear   \u001b[0m ['saga', 'liblinear']\n",
      "CPU times: total: 297 ms\n",
      "Wall time: 1.84 s\n"
     ]
    }
   ],
   "source": [
    "%%time \n",
    "\n",
    "best_classifier_c = make_best(grid_result_c.best_params_, X_train_c, y_train_c, X_val_c, y_val_c)\n",
    "print_info(grid_result_c)"
   ]
  },
  {
   "cell_type": "markdown",
   "metadata": {},
   "source": [
    "### Feedforward Neural Networks "
   ]
  },
  {
   "cell_type": "markdown",
   "metadata": {},
   "source": [
    "### MLP Classifier function"
   ]
  },
  {
   "cell_type": "code",
   "execution_count": 37,
   "metadata": {},
   "outputs": [],
   "source": [
    "# tweaked function that uses one more solver, several more hidden layers and increased computational power with n_jobs to run more efficiently\n",
    "\n",
    "def train_mlp(X_train, y_train, X_val, y_val):\n",
    "    mlp = MLPClassifier(max_iter=500)\n",
    "\n",
    "    params = {\n",
    "    \"hidden_layer_sizes\":(128, 64, 32, 16),\n",
    "    \"activation\":\"relu\",\n",
    "    \"solver\":[\"adam\", \"sgd\"],\n",
    "    \"random_state\":1\n",
    "    }\n",
    "\n",
    "\n",
    "    clf = GridSearchCV(mlp, params, n_jobs=4, verbose=2)\n",
    "    clf = mlp.fit(X_train, y_train)\n",
    "\n",
    "\n",
    "    print(clf.classes_)\n",
    "    predictions = clf.predict(X_val)\n",
    "\n",
    "    # print(predictions)\n",
    "    conf_matrix = confusion_matrix(y_val, predictions, labels=[0, 1])\n",
    "    print('\\n\\033[94mConfusion matrix:\\033[0m\\n', conf_matrix)\n",
    "    print('\\n\\033[94mClassification report:\\033[0m\\n',classification_report(y_val, predictions))\n",
    "\n",
    "    # display a confusion matrix\n",
    "    fig = ConfusionMatrixDisplay(confusion_matrix=conf_matrix, display_labels=clf.classes_)\n",
    "    fig.plot()\n",
    "    plt.show()\n",
    "\n",
    "    return clf"
   ]
  },
  {
   "cell_type": "code",
   "execution_count": 38,
   "metadata": {},
   "outputs": [
    {
     "name": "stdout",
     "output_type": "stream",
     "text": [
      "[0 1]\n",
      "\n",
      "\u001b[94mConfusion matrix:\u001b[0m\n",
      " [[451  70]\n",
      " [ 47 486]]\n",
      "\n",
      "\u001b[94mClassification report:\u001b[0m\n",
      "               precision    recall  f1-score   support\n",
      "\n",
      "           0       0.91      0.87      0.89       521\n",
      "           1       0.87      0.91      0.89       533\n",
      "\n",
      "    accuracy                           0.89      1054\n",
      "   macro avg       0.89      0.89      0.89      1054\n",
      "weighted avg       0.89      0.89      0.89      1054\n",
      "\n"
     ]
    },
    {
     "data": {
      "image/png": "[encoded data removed]",
      "text/plain": [
       "<Figure size 640x480 with 2 Axes>"
      ]
     },
     "metadata": {},
     "output_type": "display_data"
    },
    {
     "name": "stdout",
     "output_type": "stream",
     "text": [
      "MLPClassifier(max_iter=500)\n",
      "CPU times: total: 5min 44s\n",
      "Wall time: 19min 22s\n"
     ]
    }
   ],
   "source": [
    "%%time \n",
    "\n",
    "\n",
    "grid_mlp = train_mlp(X_train, y_train, X_val, y_val)\n",
    "print(grid_mlp)"
   ]
  },
  {
   "cell_type": "code",
   "execution_count": null,
   "metadata": {},
   "outputs": [],
   "source": []
  }
 ],
 "metadata": {
  "kernelspec": {
   "display_name": "base",
   "language": "python",
   "name": "python3"
  },
  "language_info": {
   "codemirror_mode": {
    "name": "ipython",
    "version": 3
   },
   "file_extension": ".py",
   "mimetype": "text/x-python",
   "name": "python",
   "nbconvert_exporter": "python",
   "pygments_lexer": "ipython3",
   "version": "3.10.9"
  }
 },
 "nbformat": 4,
 "nbformat_minor": 2
}
