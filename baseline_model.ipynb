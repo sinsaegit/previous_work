{
 "cells": [
  {
   "cell_type": "markdown",
   "metadata": {},
   "source": [
    "## Fine tuning a Norwegian language BERT model "
   ]
  },
  {
   "cell_type": "code",
   "execution_count": 1,
   "metadata": {},
   "outputs": [],
   "source": [
    "# sklearn (vectorizer, classifier, gridsearch)\n",
    "from sklearn.feature_extraction.text import TfidfVectorizer\n",
    "from sklearn.linear_model import LogisticRegression\n",
    "from sklearn.model_selection import GridSearchCV\n",
    "from sklearn.metrics import ConfusionMatrixDisplay, classification_report, confusion_matrix\n",
    "from sklearn.neural_network import MLPClassifier\n",
    "import matplotlib.pyplot as plt\n",
    "\n",
    "\n",
    "# For tuning and training\n",
    "import torch.nn as nn\n",
    "import torch\n",
    "from transformers import AutoModelForSequenceClassification\n",
    "from transformers import (\n",
    "    AutoTokenizer,\n",
    "    AutoConfig,\n",
    "    AutoModelForSequenceClassification,\n",
    "    DataCollatorWithPadding,\n",
    "    TrainingArguments,\n",
    "    Trainer\n",
    ")\n",
    "import evaluate\n",
    "\n",
    "\n",
    "# Auxiliary\n",
    "from random import shuffle\n",
    "import pickle\n",
    "import pandas as pd \n",
    "import numpy as np \n",
    "import json\n",
    "import os\n",
    "import os.path\n",
    "\n"
   ]
  },
  {
   "cell_type": "code",
   "execution_count": 2,
   "metadata": {},
   "outputs": [],
   "source": [
    "# Tagging the data points with positive or negative\n",
    "\n",
    "class TaggedPoint():\n",
    "    def __init__(self, data, tag):\n",
    "        self.data = data\n",
    "        self.tag = tag"
   ]
  },
  {
   "cell_type": "code",
   "execution_count": 3,
   "metadata": {},
   "outputs": [
    {
     "name": "stdout",
     "output_type": "stream",
     "text": [
      "<class 'dict'>\n",
      "Negative reviews:  5246\n",
      "Positive reviews:  5166\n"
     ]
    }
   ],
   "source": [
    "# opens the folder as per my file system and filters data based on rating and screen\n",
    "# processing it norwegian text\n",
    "\n",
    "with open(\"./norec-master/norec-master/data/metadata.json\", \"r\", encoding=\"utf-8\") as file:\n",
    "    data = json.load(file)  \n",
    "    filtered_data = {k:v for k,v in data.items() if v[\"category\"] == \"screen\"}\n",
    "\n",
    "    neg_reviews = {k:v for k,v in filtered_data.items() if v[\"rating\"] in [1,2,3]}\n",
    "    pos_reviews = {k:v for k,v in filtered_data.items() if v[\"rating\"] in [5,6]}\n",
    "    \n",
    "print(type(data))\n",
    "print(\"Negative reviews: \", len(neg_reviews))\n",
    "print(\"Positive reviews: \", len(pos_reviews))"
   ]
  },
  {
   "cell_type": "code",
   "execution_count": 4,
   "metadata": {},
   "outputs": [
    {
     "name": "stdout",
     "output_type": "stream",
     "text": [
      "4340\n",
      "4348\n",
      "34749\n"
     ]
    }
   ],
   "source": [
    "# count files in directories\n",
    "\n",
    "fp = \"./norec-master/norec-master/data/\"\n",
    "\n",
    "\n",
    "def count_files(path):\n",
    "    count = 0\n",
    "    for i in os.listdir(path):\n",
    "        count += 1\n",
    "    print(count)\n",
    "    return count\n",
    "\n",
    "\n",
    "test_count = count_files(fp+\"test\")\n",
    "dev_count = count_files(fp+\"dev\")\n",
    "train_count = count_files(fp+\"train\")"
   ]
  },
  {
   "cell_type": "code",
   "execution_count": 5,
   "metadata": {},
   "outputs": [
    {
     "name": "stdout",
     "output_type": "stream",
     "text": [
      "Test set: 1006,  Validation set: 1054,  Train set: 8352\n",
      "CPU times: total: 5.59 s\n",
      "Wall time: 1min 48s\n"
     ]
    }
   ],
   "source": [
    "%%time\n",
    "# takes the key values in the dictionary items and adds .txt to them for easy comparison in dev, test, train folder\n",
    "# by adding the data as TaggedPoint-objects, we can easily reuse many of the supplied functions\n",
    "\n",
    "\n",
    "def get_files(path):\n",
    "    global neg_reviews, pos_reviews\n",
    "    id_neg = [k+\".txt\" for k in neg_reviews.keys()]\n",
    "    id_pos = [k+\".txt\" for k in pos_reviews.keys()]\n",
    "    data = []\n",
    "\n",
    "    for file in os.listdir(path):\n",
    "        fn = path+file\n",
    "        if os.path.isfile(fn):\n",
    "            if file in id_neg:\n",
    "                with open(fn, \"r\", encoding=\"utf-8\") as file:\n",
    "                    content = file.read()\n",
    "                    data.append(TaggedPoint(content, 0))\n",
    "            elif file in id_pos:\n",
    "                with open(fn, \"r\", encoding=\"utf-8\") as file:\n",
    "                    content = file.read()\n",
    "                    data.append(TaggedPoint(content, 1))\n",
    "\n",
    "\n",
    "    return data # return list with tagged points\n",
    "\n",
    "test = get_files(\"./norec-master/norec-master/data/test/\")\n",
    "val = get_files(\"./norec-master/norec-master/data/dev/\")\n",
    "train = get_files(\"./norec-master/norec-master/data/train/\")\n",
    "\n",
    "print(f\"Test set: {len(test)},  Validation set: {len(val)},  Train set: {len(train)}\")"
   ]
  },
  {
   "cell_type": "code",
   "execution_count": 6,
   "metadata": {},
   "outputs": [
    {
     "name": "stdout",
     "output_type": "stream",
     "text": [
      "Data: \n",
      " nei til sameflagg 17. mai  \n",
      "et flertall i oslo bystyre gÃ¥r inn for at det ikke skal heises sameflagg\n",
      "pÃ¥ oslo kommunes flaggstenger  17. mai. samene er skuffet.  \n",
      "nei dette synet, det samiske flagget ved siden av det norske  flagget,\n",
      "kommer man ikke til Ã¥ fÃ¥ se pÃ¥ oslo kommunes flaggstenger 17. mai.\n",
      "foto scanpix      \n",
      "avgjÃ¸relsen ble tatt under bystyrets  mÃ¸te onsdag kveld. et flertall\n",
      "bestÃ¥ende av ap, hÃ¸yre,  frp og krf gikk inn for at det ikke blir sameflagg\n",
      "i oslo.  \n",
      "det var sv, venstre og rv som foreslo at det samiske flagget  ogsÃ¥ kan\n",
      "vÃ¦re representert pÃ¥ kommunens flaggstenger  17. mai. bakgrunnen er\n",
      "at det samiske flagget ble likestilt med  det norske i 2003.  \n",
      "lederen i oslo sameforening, ingrid jÃ¥ma,  er skuffet over avgjÃ¸relsen\n",
      " sameflagget er et offisielt flagg, og det ville  vÃ¦rt helt naturlig\n",
      "Ã¥ heise det i oslo 17. mai. vi  er stolte av det samiske flagget, og\n",
      "vi er stolte av kulturen  vÃ¥r. Ã¥ bruke det samiske flagget i oslo 17.\n",
      "mai, ville  vÃ¦rt et uttrykk for glede over Ã¥ tilhÃ¸re det  norske samfunnet,\n",
      "sier jÃ¥ma til ntb.  \n",
      " ntb 20.04.05 kl. 2220 \n",
      "\n",
      " Label: \n",
      " None\n"
     ]
    }
   ],
   "source": [
    "# Importing articles into \n",
    "\n",
    "def get_sami_test_files(path):\n",
    "    data = []\n",
    "\n",
    "    for fn in os.listdir(path):\n",
    "        fp = path+fn\n",
    "        if os.path.isfile(fp):\n",
    "            with open(fp, \"r\", encoding=\"latin-1\") as file:\n",
    "                content = file.read()\n",
    "                data.append(TaggedPoint(content, None))\n",
    "    return data\n",
    "\n",
    "\n",
    "# getting testfiles\n",
    "lp_test = get_sami_test_files(\"./test/\")\n",
    "print(\"Data: \\n\", lp_test[0].data, \"\\n\\n\",\n",
    "       \"Label: \\n\", lp_test[0].tag)"
   ]
  },
  {
   "cell_type": "markdown",
   "metadata": {},
   "source": [
    "#### Inspecting and choosing padding length"
   ]
  },
  {
   "cell_type": "code",
   "execution_count": 7,
   "metadata": {},
   "outputs": [
    {
     "data": {
      "text/plain": [
       "Text(0, 0.5, 'Frquency of words per text')"
      ]
     },
     "execution_count": 7,
     "metadata": {},
     "output_type": "execute_result"
    },
    {
     "data": {
      "image/png": "[encoded data removed]",
      "text/plain": [
       "<Figure size 640x480 with 1 Axes>"
      ]
     },
     "metadata": {},
     "output_type": "display_data"
    }
   ],
   "source": [
    "\n",
    "train_lens = [len(i.data.split()) for i in train] \n",
    "plt.hist(train_lens,\n",
    "         bins=20,\n",
    "         range=(0,3000),\n",
    "         histtype='stepfilled',)\n",
    "plt.xlabel(\"Length of text\")\n",
    "plt.ylabel(\"Frquency of words per text\")"
   ]
  },
  {
   "cell_type": "markdown",
   "metadata": {},
   "source": [
    "#### Creating the datasets used in training of the BERT and baseline model"
   ]
  },
  {
   "cell_type": "code",
   "execution_count": 8,
   "metadata": {},
   "outputs": [
    {
     "name": "stdout",
     "output_type": "stream",
     "text": [
      "1:  <class 'list'> <class 'list'> <class 'list'>\n",
      "2:  <class 'dict'> <class 'dict'> <class 'dict'>\n",
      "3:  <class 'datasets.arrow_dataset.Dataset'> <class 'datasets.arrow_dataset.Dataset'> <class 'datasets.arrow_dataset.Dataset'>\n",
      "Dataset({\n",
      "    features: ['label', 'text'],\n",
      "    num_rows: 1006\n",
      "})\n",
      "Dataset({\n",
      "    features: ['label', 'text'],\n",
      "    num_rows: 1054\n",
      "})\n",
      "Dataset({\n",
      "    features: ['label', 'text'],\n",
      "    num_rows: 8352\n",
      "})\n"
     ]
    }
   ],
   "source": [
    "from datasets import Dataset\n",
    "# to insure that the model has not memorized any patterns\n",
    "def shuffle_split(test, val, train):\n",
    "    shuffle(test)\n",
    "    shuffle(val)\n",
    "    shuffle(train)\n",
    "    return test, val, train\n",
    "\n",
    "\n",
    "test_set, val_set, train_set = shuffle_split(test, val, train)\n",
    "print(\"1: \", type(test_set), type(val_set), type(train_set))\n",
    "#print(test_set)\n",
    "\n",
    "\n",
    "def dictify(li):\n",
    "    data = {\"label\":[], \"text\":[]}\n",
    "    for item in li:\n",
    "        data[\"label\"].append(item.tag)\n",
    "        data[\"text\"].append(str(item.data))\n",
    "    return data\n",
    "\n",
    "\n",
    "test_set = dictify(test_set)\n",
    "val_set = dictify(val_set)\n",
    "train_set = dictify(train_set)\n",
    "print(\"2: \", type(test_set), type(val_set), type(train_set))\n",
    "\n",
    "\n",
    "test_set = Dataset.from_dict(test_set)\n",
    "val_set = Dataset.from_dict(val_set)\n",
    "train_set = Dataset.from_dict(train_set)\n",
    "print(\"3: \", type(test_set), type(val_set), type(train_set))\n",
    "print(test_set)\n",
    "print(val_set)\n",
    "print(train_set)"
   ]
  },
  {
   "cell_type": "markdown",
   "metadata": {},
   "source": [
    "#### Creating dataset for unlabeled data"
   ]
  },
  {
   "cell_type": "code",
   "execution_count": 9,
   "metadata": {},
   "outputs": [
    {
     "name": "stdout",
     "output_type": "stream",
     "text": [
      "382\n"
     ]
    },
    {
     "data": {
      "text/plain": [
       "382"
      ]
     },
     "execution_count": 9,
     "metadata": {},
     "output_type": "execute_result"
    }
   ],
   "source": [
    "count_files(\"./test\")"
   ]
  },
  {
   "cell_type": "code",
   "execution_count": 10,
   "metadata": {},
   "outputs": [
    {
     "name": "stdout",
     "output_type": "stream",
     "text": [
      "382\n"
     ]
    }
   ],
   "source": [
    "with open(\"./test_metadata.json\", \"r\") as f:\n",
    "    metadata = json.load(f)\n",
    "\n",
    "print(len(metadata))"
   ]
  },
  {
   "cell_type": "code",
   "execution_count": 11,
   "metadata": {},
   "outputs": [],
   "source": [
    "import json\n",
    "\n",
    "def get_unlabelled_data(path_test, path_metadata):\n",
    "    data = {\"id\":[], \"year\":[], \"label\":[], \"text\":[], \"paper\":[]}\n",
    "\n",
    "    with open(path_metadata, \"r\", encoding=\"utf-8\") as metafile:\n",
    "        metadata = json.load(metafile)\n",
    "\n",
    "\n",
    "    for fn, fd in metadata.items():\n",
    "\n",
    "        year = fd[\"year\"].replace(\"test_\", \"\")\n",
    "        paper = fd[\"paper\"].replace(\"test_\", \"\")\n",
    "\n",
    "        fp = f\"{path_test}/{fn}.txt\"\n",
    "        with open(fp, \"r\", encoding=\"utf-8\") as tf:\n",
    "            text = tf.read().strip()\n",
    "        \n",
    "        data[\"id\"].append(fn)\n",
    "        data[\"year\"].append(year)\n",
    "        data[\"label\"].append(None)\n",
    "        data[\"text\"].append(text)\n",
    "        data[\"paper\"].append(paper)\n",
    "    return data\n",
    "    \n",
    "    \n",
    "\n",
    "unlabelled_data = get_unlabelled_data(\"./test\", \"./test_metadata.json\")\n",
    "\n",
    "# for k,v in unlabelled_data.items():\n",
    "#     print(k,v, \"\\n\")\n"
   ]
  },
  {
   "cell_type": "code",
   "execution_count": 12,
   "metadata": {},
   "outputs": [],
   "source": [
    "unlabelled_data = Dataset.from_dict(unlabelled_data)"
   ]
  },
  {
   "cell_type": "markdown",
   "metadata": {},
   "source": [
    "## Making a baseline model"
   ]
  },
  {
   "cell_type": "code",
   "execution_count": 13,
   "metadata": {},
   "outputs": [],
   "source": [
    "# function that returns train features and feautres for both tfidf and countvectorizer\n",
    "\n",
    "def get_train_features(train):\n",
    "    #initialize vectorizer\n",
    "    vectorizer = TfidfVectorizer()\n",
    "\n",
    "    X_train = vectorizer.fit_transform([review.data for review in train])\n",
    "\n",
    "    y_train = np.array([review.tag for review in train])\n",
    "\n",
    "    return vectorizer, X_train, y_train\n",
    "\n",
    "\n",
    "\n",
    "def get_features(data_set, vectorizer):\n",
    "\n",
    "    X = vectorizer.transform([review.data for review in data_set])\n",
    "\n",
    "    y = np.array([review.tag for review in data_set])\n",
    "\n",
    "    return X, y\n",
    "\n",
    "\n",
    "def get_secondary_features(data_set, vectorizer):\n",
    "    # Note that we conscider another structure for the unlabelled test data\n",
    "\n",
    "    X = vectorizer.transform([text for text in data_set[\"text\"]])\n",
    "\n",
    "    return X"
   ]
  },
  {
   "cell_type": "code",
   "execution_count": 14,
   "metadata": {},
   "outputs": [],
   "source": [
    "# in order to maximize the performance of our logreg model, we use grid search to find the best params\n",
    "\n",
    "def grid_search(X, y):\n",
    "    #initialize our model\n",
    "    lr = LogisticRegression(max_iter=1500)\n",
    "\n",
    "    #create a grid of different parameters to try out during the search\n",
    "    parameters = {\n",
    "        # sag doesn't support \"l1\" -> warning\n",
    "        \"penalty\": [None, \"l1\", \"l2\"], \n",
    "        \"tol\": [1e-4, 1.5e-4 ,2e-4], \n",
    "        \"class_weight\": [None, \"balanced\"], \n",
    "        \"random_state\": [0, 42], #, 1337],\n",
    "        # We will be using sag as max_iter is >= 1000\n",
    "        \"solver\": [\"lbfgs\", \"sag\" ,\"saga\", \"liblinear\"],\n",
    "        }\n",
    "\n",
    "        \n",
    "    clf = GridSearchCV(lr, parameters, n_jobs=6, verbose=2)\n",
    "    clf.fit(X, y)\n",
    "    return clf\n",
    "\n",
    "#display the results of the grid search\n",
    "def print_info(grid_result):\n",
    "    print(grid_result)\n",
    "    for p in grid_result.param_grid:\n",
    "        print(\"\\033[92m%20s \\033[93m%-12s\\033[0m %s\" %\n",
    "        (p, grid_result.best_params_[p], grid_result.param_grid[p]))"
   ]
  },
  {
   "cell_type": "code",
   "execution_count": 15,
   "metadata": {},
   "outputs": [],
   "source": [
    "# tuning-function that takes the params and training- and validation sets to give the result\n",
    "# returns the classifier obejct along with displaying a matrix \n",
    "\n",
    "def make_best(params, X_train, y_train, X_val, y_val):\n",
    "    lr = LogisticRegression(max_iter=1500,\n",
    "                            penalty=params[\"penalty\"],\n",
    "                            class_weight=params[\"class_weight\"],\n",
    "                            random_state=params[\"random_state\"],\n",
    "                            solver=params[\"solver\"],\n",
    "                            tol=params[\"tol\"],\n",
    "                            )\n",
    "    \n",
    "    clf = lr.fit(X_train, y_train)\n",
    "\n",
    "    print(clf.classes_)\n",
    "    predictions = clf.predict(X_val)\n",
    "    # print(predictions)\n",
    "\n",
    "    print('\\n\\033[94mConfusion matrix:\\033[0m\\n',\n",
    "          confusion_matrix(y_val, predictions, labels=[0, 1]))\n",
    "    print(classification_report(y_val, predictions))\n",
    "    \n",
    "    cm = confusion_matrix(y_val, predictions, labels=[0,1])\n",
    "    fig = ConfusionMatrixDisplay(confusion_matrix=cm, display_labels=[\"0\",\"1\"])\n",
    "    fig.plot(ax=plt.gca(), cmap=\"plasma\")\n",
    "\n",
    "    plt.show()\n",
    "\n",
    "    return clf"
   ]
  },
  {
   "cell_type": "markdown",
   "metadata": {},
   "source": [
    "#### Extracting features for TF-IDF"
   ]
  },
  {
   "cell_type": "code",
   "execution_count": 16,
   "metadata": {},
   "outputs": [],
   "source": [
    "# Extracting transformed features and vectorizer\n",
    "\n",
    "vectorizer, X_train, y_train = get_train_features(train)\n",
    "X_val, y_val = get_features(val, vectorizer)\n",
    "X_test, y_test = get_features(test, vectorizer)"
   ]
  },
  {
   "cell_type": "code",
   "execution_count": 17,
   "metadata": {},
   "outputs": [
    {
     "name": "stdout",
     "output_type": "stream",
     "text": [
      "Train set shape:  (8352, 151073) (8352,) \n",
      "Test set shape:  (1006, 151073) (1006,)\n"
     ]
    }
   ],
   "source": [
    "# Checking if shape is properlt set\n",
    "\n",
    "print(\"Train set shape: \", X_train.shape, y_train.shape, \"\\nTest set shape: \",  X_test.shape, y_test.shape)"
   ]
  },
  {
   "cell_type": "markdown",
   "metadata": {},
   "source": [
    "#### Running grid_search"
   ]
  },
  {
   "cell_type": "code",
   "execution_count": 18,
   "metadata": {},
   "outputs": [
    {
     "name": "stdout",
     "output_type": "stream",
     "text": [
      "Fitting 5 folds for each of 144 candidates, totalling 720 fits\n"
     ]
    },
    {
     "name": "stderr",
     "output_type": "stream",
     "text": [
      "c:\\Users\\saete\\anaconda3\\lib\\site-packages\\sklearn\\model_selection\\_validation.py:547: FitFailedWarning: \n",
      "180 fits failed out of a total of 720.\n",
      "The score on these train-test partitions for these parameters will be set to nan.\n",
      "If these failures are not expected, you can try to debug them by setting error_score='raise'.\n",
      "\n",
      "Below are more details about the failures:\n",
      "--------------------------------------------------------------------------------\n",
      "60 fits failed with the following error:\n",
      "Traceback (most recent call last):\n",
      "  File \"c:\\Users\\saete\\anaconda3\\lib\\site-packages\\sklearn\\model_selection\\_validation.py\", line 895, in _fit_and_score\n",
      "    estimator.fit(X_train, y_train, **fit_params)\n",
      "  File \"c:\\Users\\saete\\anaconda3\\lib\\site-packages\\sklearn\\base.py\", line 1474, in wrapper\n",
      "    return fit_method(estimator, *args, **kwargs)\n",
      "  File \"c:\\Users\\saete\\anaconda3\\lib\\site-packages\\sklearn\\linear_model\\_logistic.py\", line 1172, in fit\n",
      "    solver = _check_solver(self.solver, self.penalty, self.dual)\n",
      "  File \"c:\\Users\\saete\\anaconda3\\lib\\site-packages\\sklearn\\linear_model\\_logistic.py\", line 80, in _check_solver\n",
      "    raise ValueError(\"penalty=None is not supported for the liblinear solver\")\n",
      "ValueError: penalty=None is not supported for the liblinear solver\n",
      "\n",
      "--------------------------------------------------------------------------------\n",
      "60 fits failed with the following error:\n",
      "Traceback (most recent call last):\n",
      "  File \"c:\\Users\\saete\\anaconda3\\lib\\site-packages\\sklearn\\model_selection\\_validation.py\", line 895, in _fit_and_score\n",
      "    estimator.fit(X_train, y_train, **fit_params)\n",
      "  File \"c:\\Users\\saete\\anaconda3\\lib\\site-packages\\sklearn\\base.py\", line 1474, in wrapper\n",
      "    return fit_method(estimator, *args, **kwargs)\n",
      "  File \"c:\\Users\\saete\\anaconda3\\lib\\site-packages\\sklearn\\linear_model\\_logistic.py\", line 1172, in fit\n",
      "    solver = _check_solver(self.solver, self.penalty, self.dual)\n",
      "  File \"c:\\Users\\saete\\anaconda3\\lib\\site-packages\\sklearn\\linear_model\\_logistic.py\", line 67, in _check_solver\n",
      "    raise ValueError(\n",
      "ValueError: Solver lbfgs supports only 'l2' or None penalties, got l1 penalty.\n",
      "\n",
      "--------------------------------------------------------------------------------\n",
      "60 fits failed with the following error:\n",
      "Traceback (most recent call last):\n",
      "  File \"c:\\Users\\saete\\anaconda3\\lib\\site-packages\\sklearn\\model_selection\\_validation.py\", line 895, in _fit_and_score\n",
      "    estimator.fit(X_train, y_train, **fit_params)\n",
      "  File \"c:\\Users\\saete\\anaconda3\\lib\\site-packages\\sklearn\\base.py\", line 1474, in wrapper\n",
      "    return fit_method(estimator, *args, **kwargs)\n",
      "  File \"c:\\Users\\saete\\anaconda3\\lib\\site-packages\\sklearn\\linear_model\\_logistic.py\", line 1172, in fit\n",
      "    solver = _check_solver(self.solver, self.penalty, self.dual)\n",
      "  File \"c:\\Users\\saete\\anaconda3\\lib\\site-packages\\sklearn\\linear_model\\_logistic.py\", line 67, in _check_solver\n",
      "    raise ValueError(\n",
      "ValueError: Solver sag supports only 'l2' or None penalties, got l1 penalty.\n",
      "\n",
      "  warnings.warn(some_fits_failed_message, FitFailedWarning)\n",
      "c:\\Users\\saete\\anaconda3\\lib\\site-packages\\sklearn\\model_selection\\_search.py:1051: UserWarning: One or more of the test scores are non-finite: [0.87955213 0.87967154 0.87859369 0.87572037 0.87536123 0.87548092\n",
      " 0.87631917 0.87596004 0.87607965        nan        nan        nan\n",
      " 0.87955213 0.87967154 0.87859369 0.87595982 0.87560068 0.87619927\n",
      " 0.87596004 0.87584013 0.87584013        nan        nan        nan\n",
      "        nan        nan        nan        nan        nan        nan\n",
      " 0.80950917 0.80950917 0.80938941 0.80938941 0.80938941 0.80938941\n",
      "        nan        nan        nan        nan        nan        nan\n",
      " 0.80938948 0.80926972 0.80914996 0.80938941 0.80938941 0.80938941\n",
      " 0.84710342 0.84877986 0.84877986 0.84710371 0.84710371 0.84710371\n",
      " 0.84710357 0.84710357 0.84710357 0.84698373 0.84698373 0.84698373\n",
      " 0.84710342 0.84877986 0.84877986 0.84710371 0.84710371 0.84698402\n",
      " 0.84734309 0.84746285 0.84746285 0.84698373 0.84698373 0.84698373\n",
      " 0.8752404  0.8752404  0.8752404  0.87512186 0.87560076 0.87512193\n",
      " 0.87619934 0.8763191  0.87619941        nan        nan        nan\n",
      " 0.8752404  0.8752404  0.8752404  0.87572037 0.87536123 0.8752414\n",
      " 0.87536123 0.87500202 0.87500195        nan        nan        nan\n",
      "        nan        nan        nan        nan        nan        nan\n",
      " 0.80783324 0.80807269 0.80819245 0.80807269 0.80819238 0.80819238\n",
      "        nan        nan        nan        nan        nan        nan\n",
      " 0.80783324 0.80783324 0.807953   0.80807269 0.80819238 0.80819238\n",
      " 0.84806115 0.84782177 0.84782177 0.84746299 0.84746299 0.84746299\n",
      " 0.84842086 0.84842086 0.84842086 0.84806165 0.84806165 0.84806165\n",
      " 0.84806115 0.84782177 0.84782177 0.84746299 0.84746299 0.84746299\n",
      " 0.84842093 0.84842093 0.84842093 0.84806165 0.84806165 0.84806165]\n",
      "  warnings.warn(\n"
     ]
    },
    {
     "name": "stdout",
     "output_type": "stream",
     "text": [
      "GridSearchCV(estimator=LogisticRegression(max_iter=1500), n_jobs=6,\n",
      "             param_grid={'class_weight': [None, 'balanced'],\n",
      "                         'penalty': [None, 'l1', 'l2'], 'random_state': [0, 42],\n",
      "                         'solver': ['lbfgs', 'sag', 'saga', 'liblinear'],\n",
      "                         'tol': [0.0001, 0.00015, 0.0002]},\n",
      "             verbose=2)\n",
      "\u001b[92m             penalty \u001b[93mNone        \u001b[0m [None, 'l1', 'l2']\n",
      "\u001b[92m                 tol \u001b[93m0.00015     \u001b[0m [0.0001, 0.00015, 0.0002]\n",
      "\u001b[92m        class_weight \u001b[93mNone        \u001b[0m [None, 'balanced']\n",
      "\u001b[92m        random_state \u001b[93m0           \u001b[0m [0, 42]\n",
      "\u001b[92m              solver \u001b[93mlbfgs       \u001b[0m ['lbfgs', 'sag', 'saga', 'liblinear']\n",
      "CPU times: total: 7.55 s\n",
      "Wall time: 25min 54s\n"
     ]
    }
   ],
   "source": [
    "%%time\n",
    "\n",
    "grid_result = grid_search(X_train, y_train)\n",
    "print_info(grid_result)"
   ]
  },
  {
   "cell_type": "markdown",
   "metadata": {},
   "source": [
    "#### Finding best classifiers for grid search using TF-IDF"
   ]
  },
  {
   "cell_type": "code",
   "execution_count": 19,
   "metadata": {},
   "outputs": [
    {
     "name": "stdout",
     "output_type": "stream",
     "text": [
      "[0 1]\n",
      "\n",
      "\u001b[94mConfusion matrix:\u001b[0m\n",
      " [[457  64]\n",
      " [ 53 480]]\n",
      "              precision    recall  f1-score   support\n",
      "\n",
      "           0       0.90      0.88      0.89       521\n",
      "           1       0.88      0.90      0.89       533\n",
      "\n",
      "    accuracy                           0.89      1054\n",
      "   macro avg       0.89      0.89      0.89      1054\n",
      "weighted avg       0.89      0.89      0.89      1054\n",
      "\n"
     ]
    },
    {
     "data": {
      "image/png": "[encoded data removed]",
      "text/plain": [
       "<Figure size 640x480 with 2 Axes>"
      ]
     },
     "metadata": {},
     "output_type": "display_data"
    },
    {
     "name": "stdout",
     "output_type": "stream",
     "text": [
      "CPU times: total: 78.1 ms\n",
      "Wall time: 555 ms\n"
     ]
    }
   ],
   "source": [
    "%%time \n",
    "\n",
    "best_classifier = make_best(grid_result.best_params_, X_train, y_train, X_val, y_val)"
   ]
  },
  {
   "cell_type": "code",
   "execution_count": 20,
   "metadata": {},
   "outputs": [
    {
     "name": "stdout",
     "output_type": "stream",
     "text": [
      "{'class_weight': None, 'penalty': None, 'random_state': 0, 'solver': 'lbfgs', 'tol': 0.00015}\n",
      "<class 'sklearn.linear_model._logistic.LogisticRegression'>\n"
     ]
    }
   ],
   "source": [
    "print(grid_result.best_params_)\n",
    "print(type(best_classifier))"
   ]
  },
  {
   "cell_type": "markdown",
   "metadata": {},
   "source": [
    "#### Saving model in case of notebook failure"
   ]
  },
  {
   "cell_type": "code",
   "execution_count": 18,
   "metadata": {},
   "outputs": [],
   "source": [
    "# fp = \"./baseline.pkl\"\n",
    "# with open(fp, \"wb\") as f:\n",
    "#     pickle.dump(best_classifier, f)\n"
   ]
  },
  {
   "cell_type": "code",
   "execution_count": 19,
   "metadata": {},
   "outputs": [
    {
     "name": "stdout",
     "output_type": "stream",
     "text": [
      "LogisticRegression(max_iter=1500, penalty=None, random_state=0, solver='sag',\n",
      "                   tol=0.00015)\n"
     ]
    }
   ],
   "source": [
    "fp = \"./baseline.pkl\"\n",
    "with open(fp, \"rb\") as f:\n",
    "    loaded_model = pickle.load(f)\n",
    "\n",
    "\n",
    "print(loaded_model)"
   ]
  },
  {
   "cell_type": "markdown",
   "metadata": {},
   "source": [
    "#### Making predictions on unlabelled data"
   ]
  },
  {
   "cell_type": "code",
   "execution_count": 20,
   "metadata": {},
   "outputs": [],
   "source": [
    "X_unlabelled = get_secondary_features(unlabelled_data, vectorizer)"
   ]
  },
  {
   "cell_type": "code",
   "execution_count": 21,
   "metadata": {},
   "outputs": [],
   "source": [
    "predictions = loaded_model.predict(X_unlabelled)"
   ]
  },
  {
   "cell_type": "code",
   "execution_count": 22,
   "metadata": {},
   "outputs": [
    {
     "name": "stdout",
     "output_type": "stream",
     "text": [
      "[0 1 1 1 1 1 1 1 1 1 1 1 0 1 1 1 1 1 1 1 1 1 1 1 1 1 1 1 0 1 1 1 0 0 0 0 1\n",
      " 0 0 0 1 0 0 1 0 1 1 0 0 1 1 0 1 1 1 0 0 1 0 1 1 1 1 0 1 0 1 1 0 1 0 0 1 1\n",
      " 1 1 1 0 1 0 1 1 1 1 1 1 1 0 0 0 1 0 0 1 1 0 1 0 1 0 1 1 0 1 0 1 1 1 0 1 1\n",
      " 0 0 1 1 1 0 0 0 1 0 0 1 1 1 1 1 1 1 0 1 1 1 1 1 0 1 1 1 1 0 1 1 0 0 1 1 1\n",
      " 1 0 0 1 1 1 1 1 1 1 0 0 0 1 1 1 1 0 1 1 1 1 1 0 1 1 1 1 1 0 1 0 1 0 0 1 1\n",
      " 1 1 0 1 1 1 1 1 1 1 1 0 1 1 0 0 1 0 1 1 1 0 1 1 1 1 0 1 0 1 0 0 1 1 1 1 0\n",
      " 0 1 1 1 0 1 0 1 0 1 0 1 1 1 1 1 0 1 1 0 1 0 0 0 0 1 1 1 0 1 0 0 1 1 1 1 0\n",
      " 1 1 1 1 1 1 0 1 1 0 1 0 1 1 1 1 1 1 1 1 1 1 1 1 1 1 1 1 1 1 0 1 1 1 1 1 1\n",
      " 1 0 0 0 0 1 1 1 0 1 1 1 1 1 1 1 1 1 0 0 1 1 0 1 0 1 0 1 1 0 0 0 1 1 1 1 0\n",
      " 0 0 1 0 0 0 0 0 0 1 0 1 0 1 1 0 0 0 1 1 1 0 1 1 1 0 1 1 0 1 1 1 0 1 1 1 1\n",
      " 0 1 1 1 1 1 1 0 1 0 1 0]\n",
      "382\n",
      "Dataset({\n",
      "    features: ['id', 'year', 'label', 'text', 'paper'],\n",
      "    num_rows: 382\n",
      "})\n",
      "[0, 1, 1, 1, 1, 1, 1, 1, 1, 1, 1, 1, 0, 1, 1, 1, 1, 1, 1, 1, 1, 1, 1, 1, 1, 1, 1, 1, 0, 1, 1, 1, 0, 0, 0, 0, 1, 0, 0, 0, 1, 0, 0, 1, 0, 1, 1, 0, 0, 1, 1, 0, 1, 1, 1, 0, 0, 1, 0, 1, 1, 1, 1, 0, 1, 0, 1, 1, 0, 1, 0, 0, 1, 1, 1, 1, 1, 0, 1, 0, 1, 1, 1, 1, 1, 1, 1, 0, 0, 0, 1, 0, 0, 1, 1, 0, 1, 0, 1, 0, 1, 1, 0, 1, 0, 1, 1, 1, 0, 1, 1, 0, 0, 1, 1, 1, 0, 0, 0, 1, 0, 0, 1, 1, 1, 1, 1, 1, 1, 0, 1, 1, 1, 1, 1, 0, 1, 1, 1, 1, 0, 1, 1, 0, 0, 1, 1, 1, 1, 0, 0, 1, 1, 1, 1, 1, 1, 1, 0, 0, 0, 1, 1, 1, 1, 0, 1, 1, 1, 1, 1, 0, 1, 1, 1, 1, 1, 0, 1, 0, 1, 0, 0, 1, 1, 1, 1, 0, 1, 1, 1, 1, 1, 1, 1, 1, 0, 1, 1, 0, 0, 1, 0, 1, 1, 1, 0, 1, 1, 1, 1, 0, 1, 0, 1, 0, 0, 1, 1, 1, 1, 0, 0, 1, 1, 1, 0, 1, 0, 1, 0, 1, 0, 1, 1, 1, 1, 1, 0, 1, 1, 0, 1, 0, 0, 0, 0, 1, 1, 1, 0, 1, 0, 0, 1, 1, 1, 1, 0, 1, 1, 1, 1, 1, 1, 0, 1, 1, 0, 1, 0, 1, 1, 1, 1, 1, 1, 1, 1, 1, 1, 1, 1, 1, 1, 1, 1, 1, 1, 0, 1, 1, 1, 1, 1, 1, 1, 0, 0, 0, 0, 1, 1, 1, 0, 1, 1, 1, 1, 1, 1, 1, 1, 1, 0, 0, 1, 1, 0, 1, 0, 1, 0, 1, 1, 0, 0, 0, 1, 1, 1, 1, 0, 0, 0, 1, 0, 0, 0, 0, 0, 0, 1, 0, 1, 0, 1, 1, 0, 0, 0, 1, 1, 1, 0, 1, 1, 1, 0, 1, 1, 0, 1, 1, 1, 0, 1, 1, 1, 1, 0, 1, 1, 1, 1, 1, 1, 0, 1, 0, 1, 0]\n"
     ]
    }
   ],
   "source": [
    "print(predictions)\n",
    "print(len(predictions))\n",
    "baseline_data = unlabelled_data\n",
    "\n",
    "print(baseline_data)\n",
    "baseline_data = baseline_data.remove_columns(\"label\")\n",
    "baseline_data = baseline_data.add_column(\"label\", predictions)\n",
    "\n",
    "print(baseline_data[\"label\"])"
   ]
  },
  {
   "cell_type": "markdown",
   "metadata": {},
   "source": [
    "#### Random control samples for the dataset\n"
   ]
  },
  {
   "cell_type": "code",
   "execution_count": 23,
   "metadata": {},
   "outputs": [],
   "source": [
    "import random\n",
    "\n",
    "sample = random.sample(range(len(predictions)), 5)\n"
   ]
  },
  {
   "cell_type": "code",
   "execution_count": 27,
   "metadata": {},
   "outputs": [
    {
     "name": "stdout",
     "output_type": "stream",
     "text": [
      "Randomly chosen list indices:  [283, 44, 321, 202, 164]\n",
      "------------------------------\n",
      "This text have been classified as: negative/0\n",
      "\n",
      "\n",
      "test av høstens nye flatskjermer\n",
      "bladet lyd og bilde har testet seks av høstens nye flatskjermer. foto\n",
      "lyd og bilde      \n",
      "av  audun hage, lyd og bilde  og darren waring, lyd og bilde  16.09.2010\n",
      "kl. 1040 kilde vg nett  \n",
      "den som får led sist, har led best! høstens tvslipp gir deg ledskjermer\n",
      "med super kvalitet til en overkommelig pris. \n",
      "ledteknologien gjør flatskjermene enda flatere enn før.\n",
      " det verste slankehysteriet begynner faktisk å gi seg blant tvprodusentene.\n",
      "de tynne tvene er i praksis blitt tynne nok. nå er det igjen fokus\n",
      "på bildekvalitet, finesser og tilkoblingsmuligheter, oppsummerer journalist\n",
      "audun  hage i lyd  bilde.\n",
      "det som i butikken markedsføres som ledtv, er strengt tatt fremdeles\n",
      "lcdskjermer. lcdskjermer har vært med oss i mange år. en lcdskjerm\n",
      "har en fast lyskilde bakerst, og et lag med flytende krystaller foran.\n",
      "krystallene  åpner og lukker seg som persienner, og danner bildet du\n",
      "ser på skjermen.\n",
      "til nå har det vært vanligst å bruke et slags lysrør som lyskilde.\n",
      "men nå er leddiodene på vei inn.\n",
      "ledbelysningen kan enten plasseres på tradisjonelt vis, bakerst, eller\n",
      "de kan plasseres i kanten av skjermen. på den måten kan skjermen bli\n",
      "mye tynnere enn før.\n",
      " det eneste problemet med de sylslanke skjermene har i grunnen vært\n",
      "prislappen. men etter hvert som flere produsenter har kommet på banen,\n",
      "ser vi bedre utvalg og lavere priser på skjermer med ledbelysning,\n",
      "sier lyd   bildejournalist darren waring.\n",
      "audun hage øverst og darren waring er journalister i bladet lyd og\n",
      "bilde, og har laget denne testen. foto mattis sandblad og thomas andreassen\n",
      "40 eller 42 tommer er størrelsene for deg som er ute etter et godt\n",
      "kjøp.\n",
      "her er rådene fra lyd  bildes tveksperter audun hage og darren waring\n",
      "40 til 42 tommer, som er størrelsen du finner i denne testen, er det\n",
      "det selges mest av. det er en fin allroundstørrelse om passer bra til\n",
      "små og mellomstore stuer med sitteavstand mellom to og fire meter.\n",
      "37tommerne virker å være en litt utdøende rase. de som tidligere vurderte\n",
      "en 37, kan være tjent med å gå for en 40tommer. utvalget er større,\n",
      "og du får mer bilde for pengene.\n",
      "skal du ha en større skjerm, må du også ha en bedre tv. kravet til\n",
      "bildekvaliteten øker i takt med at bildet blir større. selv om butikkjedene\n",
      "reklamerer med store flatskjermer til svært lave priser, er  disse sjelden\n",
      "av særlig god kvalitet. da kan du komme bedre ut om du velger en mer\n",
      "moderat størrelse til samme pris.\n",
      "sony kdl40nx700 foto lyd og bilde     størrelse 40 tommer\n",
      "skjermtype lcd med sideled\n",
      "denne tven inneholder det meste av avansert bildebehandling. men det\n",
      "sony har skjønt, i motsetning til mange andre, er at bildebehandlingen\n",
      "skal porsjoneres ut i riktige mengder. her er bildet nærmest optimalt\n",
      "idet du løfter  tven ut av boksen. uansett hva slags innhold den viser,\n",
      "får den frem det beste i bildematerialet. det trekker heller ikke ned\n",
      "at årets tver fra sony har fått en kraftig ansiktsløftning, og er\n",
      "blitt ganske lekre å  se på.\n",
      "philips 40pfl7605h foto lyd og bilde     størrelse 40 tommer\n",
      "skjermtype lcd med sideled\n",
      "philips holder fast på ambilightkonseptet sitt, der små lysdioder\n",
      "på baksiden av tven lyser opp omgivelsene i samme farge som tvbildet.\n",
      "fargegjengivelse og kontrast må justeres ned for å få  et naturlig bilde.\n",
      "den digitale bildebehandlingen fungerer derimot utmerket, og gir skjermen\n",
      "en suveren skarphet på sport og andre bilder med mye bevegelse. philipsskjermen\n",
      "har den snevreste betraktningsvinkelen i testen du bør  altså sitte\n",
      "rett foran den.\n",
      "panasonic txl42d25 foto lyd og bilde     størrelse 42 tommer\n",
      "skjermtype lcd med sideled\n",
      "tidligere panasonicskjermer har ofte vært plaget av grønnskjær, men\n",
      "denne har en naturlig og fin fargebalanse rett ut av esken. skjermen\n",
      "viser detaljer på en flott måte, og lyden er bedre enn ventet fra en\n",
      "så  tynn skjerm. den utradisjonelle grå rammen har et design man enten\n",
      "elsker eller hater. men vær oppmerksom på at mange av kontaktene på\n",
      "baksiden vender rett bakover, slik at det kan være problematisk å montere\n",
      "skjermen helt inntil veggen.\n",
      "lg 42le550n foto lyd og bilde     størrelse 42 tommer\n",
      "skjermtype lcd med sideled\n",
      "digitaltuner, usbmediespiller som spiller filmer i divxformat og\n",
      "hdkvalitet, og mulighet for trådløs hdlink er noen av godbitene du\n",
      "får med denne flotte tven. bildekvaliteten er i toppklasse, men blir\n",
      "enda bedre ved å  justere ned fargebalansen et lite hakk. justeringsmulighetene\n",
      "er for øvrig svært avanserte. lgs design innebærer for tiden en farget\n",
      "stripe i kanten av kabinettet. årets farge er lilla, og det er ikke\n",
      "sikkert at det  virker like kult om fem år.\n",
      "panasonic txp42x20 foto lyd og bilde     størrelse 42 tommer\n",
      "skjermtype plasma\n",
      "kan en god, gammeldags plasmaskjerm måle seg med alle lcdskjermene\n",
      "med ledbaklys? ja, bildekvaliteten er imponerende  både fyldig og\n",
      "naturlig på samme tid. men merk at denne skjermen er enklere utstyrt\n",
      "enn de andre, den  mangler for eksempel avanserte funksjoner for å glatte\n",
      "ut bevegelser. den har også bare vanlig hdoppløsning, ikke såkalt\n",
      "full hd. plasmaskjermer er mindre lyssterke enn lcdskjermer, og kommer\n",
      "best til  sin rett i mørke rom.\n",
      "tandberg ergoclass 42 foto lyd og bilde     størrelse 40 tommer\n",
      "skjermtype  standard lcd\n",
      "dette er trolig den eneste tven i verden som lar deg velge mellom\n",
      "bokmål, nynorsk og samisk meny! målgruppen ser ut til å være folk\n",
      "flest, og menyen er enkel og oversiktlig. egentlig litt for enkel,\n",
      "for  både lysstyrken og bevegelseskompenseringen er skrudd litt for\n",
      "høyt  og du får ikke gjort noe med det. tven har ingen gøyale internettfunksjoner,\n",
      "men derimot testens soleklart beste lydkvalitet.\n",
      "vg nett 16.09.2010 kl. 1040, sist oppdatert 16.09.2010 kl. 1057 \n",
      "\n",
      "------------------------------\n",
      "This text have been classified as: Positive/1\n",
      "\n",
      "\n",
      "golpol på alkotoppen  \n",
      "golålesund vg her er norges mest populære vinmonopol  målt i liter\n",
      "i forhold til antall innbyggere.\n",
      "av arne rovick  og lars erik skrefsrud  foto\n",
      "alkogol janne høilandberger og dag olav høilandberger var  kunder\n",
      "på vinmonopolet på gol i går og endte opp med en flaske vodka i handlekurven.\n",
      "foto lars erik  skrefsrud        i fjor bar kundene ut 252000 liter med vin\n",
      "og  brennevin fra selvbetjeningspolet på gol i hallingdal. fordelt  på\n",
      "fastboende over 18 år, topper dette utsalget listen  over mestselgende\n",
      "pol i forhold til kommunens folketall 73 liter  alkohol per innbygger.\n",
      "vinmonopolets utsalg på gol forsyner festbygda hemsedal  og resten av\n",
      "hallingdal med drikkevarer. derfor betyr vgs tall  ikke at lokalbefolkningen\n",
      "er mer tørst enn andre steder  i landet.  \n",
      "hyttefolk  \n",
      " veldig mange av våre kunder er turister  som har hytte i hallingdal.\n",
      "gol er også et sterkt og stort  handelssentrum, og i kundemassen vi\n",
      "har fastboende fra et stort  distrikt, sier butikksjef margunn berget\n",
      "kristiansen hos vinmonopolet  på gol.  \n",
      "i 20 år har hun arbeidet på det lokale polet,  og har bred kunnskap\n",
      "om både fastboende og tilreisende kunder.  \n",
      " det går mye i rødvin, og særlig trelitere  på boks. i toppsesongen\n",
      "må jeg bestille andre typer  varer fordi byfolk har et annet handelsmønster.\n",
      "de er først  ute med de nye trendene, forteller berget kristiansen til\n",
      "vg.  \n",
      "nordaurdal med polutsalget på fagernes kommer på  annenplass i oversikten.\n",
      " dette er også et typisk hytte og feriepol, sier  rådgiver jens nordahl\n",
      "i vinmonopolet til vg.  \n",
      "vgs tall, som er basert på salgsstatistikk fra vinmonopolet  og befolkningsstatistikk\n",
      "fra ssb, viser at det gjennomsnittlig  selges 24,7 liter med alkohol\n",
      "per innbygger i de kommunene som  har ett eller flere vinmonopol.  \n",
      " lokale forhold gir store utslag på statistikken.  store konsentrasjoner\n",
      "av hytter, vintersportssteder og populære  feriemål på sørlandet er\n",
      "faktorer som påvirker  omsetningen, forteller jens nordahl.  \n",
      "konjakk som medisin  \n",
      "i bunnen av tabellen ligger kautokeino som bare  selger 6,9 liter\n",
      "alkohol per innbygger. årsaken er kulturelt  betinget.  \n",
      " 80 prosent av innbyggerne er samer. mange av disse er kristne  læstadianere\n",
      "som i generasjoner har jobbet mot alkohol,  forklarer butikksjef brita\n",
      "triumf i kautokeino.  \n",
      "utsalget i finnmark utmerker seg også med at en fjerdedel  av omsetningen\n",
      "er druebrennevin.  \n",
      " her bruker folk konjakk som medisin, og de hevder at det  virker,\n",
      "sier triumf til vg.  \n",
      "vestlandskommunene karmøy, bømlo og kvinnherad  selger lite vin og brennevin\n",
      "i forhold til innbyggertallet, det  samme gjør kommunene nær svenskegrensen.\n",
      "vg 15.01.06 kl. 0720 \n",
      "\n",
      "------------------------------\n",
      "This text have been classified as: negative/0\n",
      "\n",
      "\n",
      "varaordfører  håper ikke stella tar det personlig\n",
      "angrer rita ormbostad skal i dag sende ut en beklagelse i form av\n",
      "en pressemelding. stella mwangi har så langt ikke kommentert varaordførenes\n",
      "utspill. foto anders tøsse og krister sørbø                  av  sindre øgar  \n",
      "publisert 17.02.11  1326, endret 17.02.11  1328 vg\n",
      "aure vg en spak og angrende rita ormbostad 31 sier meldingene om\n",
      "stella mwangi på facebook var ment som humor. \n",
      " jeg trodde aldri i livet at denne dagen skulle komme, sier hun.\n",
      "varaordfører rita ormbostad var tydelig preget, og beklaget overfor\n",
      "stella da hun møtte vg etter oppvaskmøtet med styret og kommunestyregruppen\n",
      "til aure høyre i går kveld.\n",
      "gi meg samer, isbjørner og moskuser. jeg synes det er det vi skal\n",
      "selge, og ikke at vi har åpne asylmottak!\n",
      "jeg skal kvesse meg et spyd og kjøpe en bongotromme til düsseldorf.\n",
      "mulig jeg reiser til afrika og ser det derfra! her skal det spises\n",
      "gnu!!!! skal ta med meg neste års innslag opp igjen tenker jeg...\n",
      "gjennom dagen hadde hun blitt latterliggjort og sterkt kritisert for\n",
      "det flere mener er rasistiske meldinger på facebookstatusene hennes\n",
      " rettet mot mgpvinner stella mwangi.\n",
      "blant annet skrev hun gi meg samer, isbjørner og moskuser. jeg synes\n",
      "det er det vi skal selge, og ikke at vi har åpne asylmottak!.\n",
      " det er veldig beklagelig, ikke bare for meg, men for høyre, for kommunen\n",
      "og for familien min. jeg trodde aldri i livet at denne dagen skulle\n",
      "komme. det må jeg si, sier rita ormbostad med forsiktig stemme til\n",
      "vg.\n",
      " selvfølgelig.\n",
      "vg sitter sammen med høyrepolitikeren, ved samme bord som krisemøtet\n",
      "ble holdt, på aure rehabiliteringssenter. hun ser forsiktig opp på\n",
      "oss. stemmen er spak, men sprekker ikke. hun vet hva hele bygda snakker\n",
      "om. i aure  kommune i møre og romsdal bor det bare drøyt 3500 innbyggere.\n",
      "kommunen har ikke for vane å bli omtalt i riksmediene.\n",
      " det var en setting som var ironisk og humoristisk. det ble dratt\n",
      "langt ut i en ytterkant  og det var en riv ruskende gal måte å gjøre\n",
      "det på.\n",
      " nei.\n",
      " jeg må beklage overfor henne. jeg håper hun ikke tar det personlig,\n",
      "for det var overhodet ikke personlig ment.\n",
      " nei. jeg har holdt meg litt for meg selv i dag.\n",
      " høyre tar avstand fra det jeg har skrevet, og det er helt rimelig.\n",
      "men partikollegene mine er veldig flinke til å ta vare på mennesket\n",
      "rita midt oppi dette.\n",
      " jeg føler at det har eskalert til høyder jeg ikke trodde var mulig.\n",
      "ikke i aure. det er noe jeg gjorde i en privat setting, men dette er\n",
      "en ting jeg burde ha sett komme.\n",
      " jeg har vel norges mest dyrekjøpte erfaring for at det er høyst,\n",
      "høyst offentlig  enten du vil det eller ikke. dette er noe veldig\n",
      "mange bør ta lærdom av.\n",
      "rita ormbostad har en lukket facebookprofil. bare hennes 632 venner\n",
      "kan lese det hun skriver på veggen.\n",
      " det får bli opp til aure høyre å avgjøre. nominasjonsprosessen vil\n",
      "vise det.\n",
      " godt spørsmål, sier rita ormbostad og kikker ut i luften.\n",
      "hun tenker seg godt om, før hun svarer\n",
      " jeg har ikke tenkt så langt ennå. nå vil jeg bare komme meg gjennom\n",
      "dagen.\n",
      " jeg er ikke en rasist. langt derifra, svarer lokalpolitikeren.\n",
      " barna er hos pappaen sin, så jeg skal være alene i kveld, sier hun.\n",
      "i dag vil varaordføreren beklage det hele i en pressemelding.\n",
      " den skal jeg tenke litt på i kveld. jeg skal ha en stille tid for\n",
      "meg selv og gå gjennom hodet mitt. jeg ser ikke for meg at dette roer\n",
      "seg.\n",
      " som jeg har sagt før det var en spøk som tok av, sier ormbostad.\n",
      "det var ordfører ingunn oldervik golmen som først gjorde henne oppmerksom\n",
      "på at noen reagerte på facebookmeldingene.\n",
      " ordføreren ringte meg. hun hadde fått noen henvendelser angående\n",
      "det som sto. jeg gikk ut og beklaget det på siden min med en gang.\n",
      " jeg skal være veldig positiv. jeg skal gi ros, ikke ris.\n",
      "rita ormbostad refses sterkt fra flere hold. blant dem som mente hun\n",
      "gikk for langt, er stella mwangis korist samantha gurah.\n",
      " uttalelsene hennes er idiotiske og hårreisende. det virker som om\n",
      "hun ikke har fulgt med i tiden i det hele tatt. helt forkastelig, sier\n",
      "gurah.\n",
      "varaordføreren får også hard medfart fra egen partiledelse\n",
      " uttalelsene står ikke i stil med høyres verdigrunnlag. jeg forstår\n",
      "at hun har beklaget og sagt at dette var en spøk, men som politiker\n",
      "representerer hun partiet hele tiden, ikke minst på sosiale medier,\n",
      "sier  partileder erna solberg. inkluderingsminister tora aasland sv\n",
      "kaller uttalelsene primitive.\n",
      "ordfører i aure, ingunn golmen sp, mener ytringene rammer kommunens\n",
      "omdømme.\n",
      " det er klart at dette er veldig uheldig for henne og for kommunen,\n",
      "sier hun.\n",
      "harald espelund frp, ordfører i mwangis hjemkommune ullensaker, mener\n",
      "ytringene mot grand prixyndlingen er uvirkelige.\n",
      " stella er ei flott og positiv jente, og et forbilde i kommunen vår.\n",
      "hun har gått på skole i kløfta, og har opptrådt rundt om i kommunen\n",
      "flere ganger. vi er veldig stolte av hennes prestasjoner, og kommentarer\n",
      "som dette blir bare trist.\n",
      "stockholm vg nett fredrik skavlan inviterte stella mwangi i studio\n",
      "for å snakke om rasisme. hun ville heller snakke om sin gule jakke. \n",
      "\n",
      "------------------------------\n",
      "This text have been classified as: Positive/1\n",
      "\n",
      "\n",
      "kongehuset på samisk\n",
      "nå også på samisk kronprins haakon og kronprins mettemarit ble tatt\n",
      "i mot av sanken ailu anti 4 og brita anne marit eira 5 da de besøkte\n",
      "sametinget fredag formiddag. foto scanpix      \n",
      "06.02.2009 kl. 1111 kilde  ntb  \n",
      "samtidig som kronprinsparet forlot sametinget fredag, åpnet slottet\n",
      "den samiskspråklige seksjonen på kongehuset nettsider. \n",
      " det er ekstra hyggelig å gjøre dette på samefolkets dag. innholdet\n",
      "vil ikke være det samme som på den norskspråklige seksjonen på nettsiden\n",
      ". men deler av det, gjøres tilgjengelig på samenes eget språk, sier\n",
      "kommunikasjonssjef marianne hagen på slottet til ntb.\n",
      "omfanget av saker vil ikke være identisk med den norskspråklige seksjonen.\n",
      " vi vil ikke oversette alt innhold til samisk, men legger vekt på\n",
      "at alle saker som berører samiske forhold skal legges ut på samisk,\n",
      "sier hagen.\n",
      " ntb 06.02.2009 kl. 1111, sist oppdatert 06.02.2009 kl. 1323 \n",
      "\n",
      "------------------------------\n",
      "This text have been classified as: negative/0\n",
      "\n",
      "\n",
      "vintervidda lokker\n",
      "av dag fonbæk  foto terje mortensen  13.02.2006 kl. 1430 kilde vg\n",
      "termometeret viser 26 minus. endelig er vinteren kommet til finnmark.\n",
      "fire timers scootersafari fra ongajoksetra bærer det innover mattisdalen\n",
      "og opp på fjellet til 800 moh. espen ottem fører an i scooterkonvoien.\n",
      "foto terje mortensen       \n",
      "finnmarksvidda vg tilreisende fra hele europa  kommer for å oppleve\n",
      "kulden, mørket, nordlyset   og de fantastiske naturopplevelsene som\n",
      "bare ligger der og venter på oss.\n",
      " 80 prosent av gjestene våre er utlendinger, forteller eirik nilsen\n",
      "på holmen hundesenter  , idet han spenner for 6spannet og innvier oss\n",
      "i hundekjøringens abc.\n",
      "eirik stiller i år til start i det 100 mil lange finnmarksløpet  for\n",
      "13. gang. tre ganger har han vunnet maratonen. når han ikke trener\n",
      "utholdenhet, tar han imot turister på hundegården sin.\n",
      "selv om vi blir ikledd termodress, solide varmestøvler og oluflue,\n",
      "biter det skikkelig rundt neserota idet 6spannet gir seg i vei gjennom\n",
      "småfuruskogen langs altaelva  .\n",
      "bikkjene er yre som foran iditarod  , men loser oss disiplinert gjennom\n",
      "den millange rundløypa. etterpå vanker ramsvart kjelekaffi i den båloppvarmede\n",
      "lavvoen  .\n",
      "ved polarsirkelen går grensen for midnattssol  og mørketid  . jo lenger\n",
      "nord, jo lenger varer periodene.\n",
      "hei hvor det går psykorudolf setter av sted før johan nils nilsen\n",
      "eira har sagt kjør. foto terje mortensen     men selv på den mørkeste\n",
      "tiden øyner vi et helt spesielt lys. gulblått, ispedd strimer av nordlys.\n",
      " det er vinteren som er vakker her oppe. midnattssolen er oppskrytt\n",
      "i forhold til lyset om vinteren, mener skuespiller per chr. ellefsen\n",
      "i widerøe  magasinet perspektiv. han har kjøpt seg tomt i alta  .\n",
      "finnmark  er et av de stedene i verden hvor sannsynligheten for å se\n",
      "nordlyset er størst. aller best er sjansen fra oktober til mars.\n",
      "snøscooteren til espen ottem på ongajoksetra  har oppvarmede styrehåndtak,\n",
      "men det hjelper lite mot minusgradene i 800 meters høyde over mattisdalen\n",
      ".\n",
      "vi setter scooternesen nedover mot dalen igjen, til lavvoen der sverre\n",
      "dreng har fyrt opp bål for å lunke på den medbrakte bidosen  .\n",
      "bidos  den samiske reinkjøttlapskausen  serveres i dype tallerkener\n",
      "og spises med skje, gjerne med søtbrød til.\n",
      "bidos er festmat, og serveres gjerne i samiske brylluper der det kan\n",
      "komme opp mot 2000 gjester.\n",
      "espen og line på ongajok setter sin ære i å servere gjestene gourmetmat.\n",
      "til kvelds disker de opp med fireretters polarsymfoni i sitt lune\n",
      "rede\n",
      "lavvorøkt villand  , hvitløkmarinert kongekrabbe, gravet kveite  , rosastekt\n",
      "rypebryst med blåbærsaus  avrundet med lune multer marinert i krydret\n",
      "kvannesirup  . vilt, vakkert og godt  og slett ikke hva vi forventer\n",
      "å bli servert her ute i villmarken.\n",
      "reindriftsamen johan nils nilsen eira illustrerer godt utviklingen\n",
      "innen turismen på finnmarksvidda\n",
      "friskt termometeret kryper nedover. og kaldere skulle det bli... foto\n",
      "terje mortensen      før drev vi mest med suvenirsalg på sommeren. nå\n",
      "går det i reinkjøring med slede og ski på vinteren, forteller johan.\n",
      "han spenner for sin tammeste tamrein  og ber vg  ta plass bak åket for\n",
      "en grensesprengende sledetur rundt boaso sami siida, like utenfor alta.\n",
      "etterpå inviteres vi inn i bållavvoen for å høre mer om samisk kultur\n",
      "og reindrift.\n",
      "johan, som har tanker om å ta med turister på vårflyttingen av rein\n",
      "fra innlandet til kysten, beretter om oppveksten sin.\n",
      " hva spør turistene om?\n",
      " mange vil vite hvordan vi kunne bli så mange som 15 søsken i et så\n",
      "lite telt, ler johan.\n",
      "inn kommer også greske  kate makri og ektemannen som har lagt vinterferieuken\n",
      "til finnmark i år.\n",
      " vi opplevde sørnorge  for ti år siden. denne gang ville vi nordover\n",
      " og angrer ikke, sier de etter seks dager på vidda.\n",
      " kaldt?\n",
      " nei da.\n",
      "kate har rett. 28 minus på vidda virker ikke stort kaldere enn 810\n",
      "rå kuldegrader sydpå.\n",
      "kulda, den knitrende snøen, mørket og den ville, urørte naturen. det\n",
      "er jo det vi kommer for.\n",
      "lunt og godt rundt bålet i lavvoen kåserer johan nils nilsen eira\n",
      "og kona berit om samisk kultur, reindrift og mat. foto terje mortensen\n",
      "vg 13.02.2006 kl. 1430, sist oppdatert 14.02.2006 kl. 0957 \n",
      "\n"
     ]
    }
   ],
   "source": [
    "# We will extract 10 random samples. The samples will be saved so we can see if the bert model classifies similarily\n",
    "print(\"Randomly chosen list indices: \", sample)\n",
    "eval_list = list(zip(baseline_data[\"label\"], baseline_data[\"text\"]))\n",
    "\n",
    "for s in sample:\n",
    "    if eval_list[s][0] == 0:\n",
    "        temp = \"Positive/1\"\n",
    "    else: \n",
    "        temp = \"negative/0\"\n",
    "    print(\"-\"*30)\n",
    "    print(f\"This text have been classified as: {temp}\\n\\n\")\n",
    "    print(eval_list[s][1], \"\\n\")\n"
   ]
  },
  {
   "cell_type": "code",
   "execution_count": 28,
   "metadata": {},
   "outputs": [
    {
     "name": "stdout",
     "output_type": "stream",
     "text": [
      "<class 'datasets.arrow_dataset.Dataset'>\n"
     ]
    },
    {
     "data": {
      "image/png": "[encoded data removed]",
      "text/plain": [
       "<Figure size 600x400 with 1 Axes>"
      ]
     },
     "metadata": {},
     "output_type": "display_data"
    }
   ],
   "source": [
    "import matplotlib.pyplot as plt\n",
    "%matplotlib inline\n",
    "\n",
    "print(type(baseline_data))\n",
    "\n",
    "\n",
    "def plot_model(data, paper):\n",
    "    plot = {}\n",
    "    filtered_data = [item for item in data if item[\"paper\"] == paper]\n",
    "    years = set(sorted(int(item[\"year\"]) for item in filtered_data))\n",
    "    for y in years:\n",
    "        plot[y] = {\"pos\":0, \"neg\":0}\n",
    "\n",
    "    for d in filtered_data:\n",
    "        if int(d[\"year\"]) in plot:\n",
    "            if d[\"label\"] == 1:\n",
    "                plot[int(d[\"year\"])][\"pos\"] += 1\n",
    "            elif d[\"label\"] == 0:\n",
    "                plot[int(d[\"year\"])][\"neg\"] += 1\n",
    "\n",
    "\n",
    "\n",
    "    sorted_data = dict(sorted(plot.items()))\n",
    "    years = list(sorted_data.keys())\n",
    "    pos_values = [sorted_data[year]['pos'] for year in years]\n",
    "    neg_values = [sorted_data[year]['neg'] for year in years]\n",
    "    bar_width = 0.2\n",
    "    index = np.arange(len(years))\n",
    "\n",
    "    plt.figure(figsize=(6, 4))\n",
    "\n",
    "    bar1 = plt.bar(index, pos_values, bar_width, label='Positive')\n",
    "    bar2 = plt.bar(index + bar_width, neg_values, bar_width, label='Negative')\n",
    "\n",
    "    plt.xlabel('Years')\n",
    "    plt.ylabel('Relevant articles')\n",
    "    plt.title(f'Positive and Negative Predicted Articles\\n Newspaper: {paper}')\n",
    "    plt.xticks(index + bar_width / 2, years)\n",
    "    plt.legend()\n",
    "\n",
    "    plt.tight_layout()\n",
    "    plt.show()\n",
    "\n",
    "\n",
    "plot_model(baseline_data, \"vg\")        "
   ]
  },
  {
   "cell_type": "markdown",
   "metadata": {},
   "source": []
  },
  {
   "cell_type": "markdown",
   "metadata": {},
   "source": [
    "## Creating a BERT model for classification"
   ]
  },
  {
   "cell_type": "markdown",
   "metadata": {},
   "source": [
    "#### Loading BERT and tokenizer"
   ]
  },
  {
   "cell_type": "code",
   "execution_count": 60,
   "metadata": {},
   "outputs": [
    {
     "name": "stderr",
     "output_type": "stream",
     "text": [
      "c:\\Users\\saete\\anaconda3\\lib\\site-packages\\huggingface_hub\\file_download.py:1132: FutureWarning: `resume_download` is deprecated and will be removed in version 1.0.0. Downloads always resume when possible. If you want to force a new download, use `force_download=True`.\n",
      "  warnings.warn(\n"
     ]
    }
   ],
   "source": [
    "# checkpoint for NorBERT location\n",
    "checkpoint = \"ltg/norbert3-small\"\n",
    "# adding autotokenizer from huggingface to bert model\n",
    "tokenizer = AutoTokenizer.from_pretrained(checkpoint, trust_remote_code=True)\n",
    "\n",
    "\n",
    "# manually adding binary classification configuration\n",
    "id2label = {0:\"Negative\", 1:\"Positive\"}\n",
    "label2id = {\"Negative\":0, \"Positive\":1}\n",
    "\n",
    "#bert = AutoModelForSequenceClassification.from_pretrained(checkpoint, trust_remote_code=True)\n",
    "bert = AutoModelForSequenceClassification.from_pretrained(checkpoint, num_labels=2, id2label=id2label, label2id=label2id, trust_remote_code=True)\n",
    "\n"
   ]
  },
  {
   "cell_type": "code",
   "execution_count": 71,
   "metadata": {},
   "outputs": [
    {
     "data": {
      "application/vnd.jupyter.widget-view+json": {
       "model_id": "c8afdaf713eb460a9b92a97633f754f2",
       "version_major": 2,
       "version_minor": 0
      },
      "text/plain": [
       "Map:   0%|          | 0/382 [00:00<?, ? examples/s]"
      ]
     },
     "metadata": {},
     "output_type": "display_data"
    }
   ],
   "source": [
    "def tokenize_function(tp):\n",
    "    text = tp[\"text\"]\n",
    "\n",
    "    tokenizer.truncation_side = \"left\"\n",
    "    tokenized_inputs = tokenizer(\n",
    "        text,\n",
    "        padding=\"max_length\",\n",
    "        return_tensors=\"np\",\n",
    "        truncation=True,\n",
    "        max_length=512\n",
    "        )\n",
    "    return tokenized_inputs\n",
    "\n",
    "if tokenizer.pad_token is None:\n",
    "    tokenizer.add_special_tokens({\"pad_token\":\"[PAD]\"})\n",
    "    bert.resize_token_embeddings(len(tokenizer))\n",
    "\n",
    "\n",
    "unlab_pred_nn = unlabelled_data.map(tokenize_function, batched=True)\n"
   ]
  },
  {
   "cell_type": "code",
   "execution_count": 72,
   "metadata": {},
   "outputs": [
    {
     "name": "stderr",
     "output_type": "stream",
     "text": [
      "c:\\Users\\saete\\anaconda3\\lib\\site-packages\\accelerate\\accelerator.py:446: FutureWarning: Passing the following arguments to `Accelerator` is deprecated and will be removed in version 1.0 of Accelerate: dict_keys(['dispatch_batches', 'split_batches']). Please pass an `accelerate.DataLoaderConfiguration` instead: \n",
      "dataloader_config = DataLoaderConfiguration(dispatch_batches=None, split_batches=False)\n",
      "  warnings.warn(\n"
     ]
    }
   ],
   "source": [
    "\n",
    "data_collator = DataCollatorWithPadding(tokenizer=tokenizer)\n",
    "clf_metrics = evaluate.combine([\"accuracy\", \"f1\", \"precision\", \"recall\"])\n",
    "\n",
    "def compute_metrics(eval_pred):\n",
    "    logits, labels = eval_pred\n",
    "    predictions = np.argmax(logits, axis=-1)\n",
    "    return clf_metrics.compute(predictions=predictions, references=labels)\n",
    "\n",
    "# Define the training arguments\n",
    "training_args = TrainingArguments(\n",
    "    per_device_eval_batch_size=8,\n",
    "    output_dir=\".\"\n",
    ")\n",
    "\n",
    "# Create the Trainer object\n",
    "trainer = Trainer(\n",
    "    model=bert,  # your fine-tuned BERT model\n",
    "    args=training_args,\n",
    "    compute_metrics=compute_metrics,)\n",
    "\n"
   ]
  },
  {
   "cell_type": "code",
   "execution_count": 74,
   "metadata": {},
   "outputs": [
    {
     "data": {
      "application/vnd.jupyter.widget-view+json": {
       "model_id": "7dd4a271c9e341af89c37573502ce9b8",
       "version_major": 2,
       "version_minor": 0
      },
      "text/plain": [
       "  0%|          | 0/48 [00:00<?, ?it/s]"
      ]
     },
     "metadata": {},
     "output_type": "display_data"
    }
   ],
   "source": [
    "predictions = trainer.evaluate(eval_dataset=unlab_pred_nn)"
   ]
  },
  {
   "cell_type": "code",
   "execution_count": 77,
   "metadata": {},
   "outputs": [
    {
     "name": "stdout",
     "output_type": "stream",
     "text": [
      "{'eval_runtime': 339.9404, 'eval_samples_per_second': 1.124, 'eval_steps_per_second': 0.141}\n"
     ]
    }
   ],
   "source": [
    "print(predictions)"
   ]
  },
  {
   "cell_type": "code",
   "execution_count": null,
   "metadata": {},
   "outputs": [],
   "source": []
  }
 ],
 "metadata": {
  "kernelspec": {
   "display_name": "base",
   "language": "python",
   "name": "python3"
  },
  "language_info": {
   "codemirror_mode": {
    "name": "ipython",
    "version": 3
   },
   "file_extension": ".py",
   "mimetype": "text/x-python",
   "name": "python",
   "nbconvert_exporter": "python",
   "pygments_lexer": "ipython3",
   "version": "3.10.14"
  }
 },
 "nbformat": 4,
 "nbformat_minor": 2
}
